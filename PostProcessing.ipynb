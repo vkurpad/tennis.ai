{
 "cells": [
  {
   "cell_type": "code",
   "execution_count": 1,
   "metadata": {},
   "outputs": [],
   "source": [
    "import os\n",
    "import cv2\n",
    "vid_folder = \"./static/videos/\"\n",
    "img_folder = \"./static/images/\""
   ]
  },
  {
   "cell_type": "code",
   "execution_count": 12,
   "metadata": {},
   "outputs": [
    {
     "name": "stdout",
     "output_type": "stream",
     "text": [
      "['20161001_122550_01']\n",
      "Which Folder? Enter the index starting with 00\n",
      "20161001_122550_01\n",
      "92565\n"
     ]
    }
   ],
   "source": [
    "for root, dirs, files in os.walk(img_folder):\n",
    "    print(dirs)\n",
    "    a = input(\"Which Folder? Enter the index starting with 0\")\n",
    "    selected = dirs[int(a)]\n",
    "    break\n",
    "print(selected)\n",
    "totalFrames=0\n",
    "lastFrame=0\n",
    "info = os.path.join(img_folder, selected, \"info.txt\")\n",
    "with open(info, 'r') as infoFile:\n",
    "    for infoLine in infoFile:\n",
    "        varr = infoLine.split(\";\")\n",
    "        frame = varr[4].split(\":\")\n",
    "        totalFrames = int(frame[1])\n",
    "print(totalFrames)\n",
    "    "
   ]
  },
  {
   "cell_type": "code",
   "execution_count": 13,
   "metadata": {},
   "outputs": [
    {
     "name": "stdout",
     "output_type": "stream",
     "text": [
      "Swapping State to play for frame 1680\n",
      "Swapping State to stop for frame 3000\n",
      "Swapping State to play for frame 3840\n",
      "Swapping State to stop for frame 4200\n",
      "Swapping State to play for frame 4800\n",
      "Swapping State to play for frame 5760\n",
      "Swapping State to stop for frame 5940\n",
      "Swapping State to play for frame 8940\n",
      "Swapping State to stop for frame 10260\n",
      "Swapping State to play for frame 11280\n",
      "Swapping State to stop for frame 11760\n",
      "Swapping State to play for frame 11880\n",
      "Swapping State to stop for frame 12960\n",
      "Swapping State to play for frame 14160\n",
      "Swapping State to stop for frame 14820\n",
      "Swapping State to play for frame 16080\n",
      "Swapping State to stop for frame 16500\n",
      "Swapping State to play for frame 18060\n",
      "Swapping State to stop for frame 20100\n",
      "Swapping State to play for frame 21000\n",
      "Swapping State to stop for frame 21840\n",
      "Swapping State to play for frame 22860\n",
      "Swapping State to stop for frame 23760\n",
      "Swapping State to play for frame 24960\n",
      "Swapping State to stop for frame 26580\n",
      "Swapping State to play for frame 27600\n",
      "Swapping State to stop for frame 28260\n",
      "Swapping State to play for frame 29040\n",
      "Swapping State to stop for frame 29520\n",
      "Swapping State to play for frame 30300\n",
      "Swapping State to stop for frame 31560\n",
      "Swapping State to play for frame 32760\n",
      "Swapping State to stop for frame 33840\n",
      "Swapping State to play for frame 35280\n",
      "Swapping State to stop for frame 36420\n",
      "Swapping State to play for frame 37680\n",
      "Swapping State to stop for frame 38160\n",
      "Swapping State to play for frame 38640\n",
      "Swapping State to stop for frame 39420\n",
      "Swapping State to play for frame 40020\n",
      "Swapping State to stop for frame 42120\n",
      "Swapping State to play for frame 42600\n",
      "Swapping State to stop for frame 43020\n",
      "Swapping State to play for frame 43500\n",
      "Swapping State to stop for frame 43740\n",
      "Swapping State to play for frame 43860\n",
      "Swapping State to stop for frame 44520\n",
      "Swapping State to play for frame 45240\n",
      "Swapping State to stop for frame 46140\n",
      "Swapping State to play for frame 46740\n",
      "Swapping State to stop for frame 47460\n",
      "Swapping State to play for frame 48300\n",
      "Swapping State to stop for frame 49440\n",
      "Swapping State to play for frame 49440\n",
      "Swapping State to stop for frame 49560\n",
      "Swapping State to play for frame 50040\n",
      "Swapping State to stop for frame 50520\n",
      "Swapping State to play for frame 52140\n",
      "Swapping State to stop for frame 52440\n",
      "Swapping State to play for frame 53220\n",
      "Swapping State to stop for frame 54000\n",
      "Swapping State to play for frame 54780\n",
      "Swapping State to stop for frame 56040\n",
      "Swapping State to stop for frame 56040\n",
      "Swapping State to play for frame 58560\n",
      "Swapping State to stop for frame 59700\n",
      "Swapping State to play for frame 60960\n",
      "Swapping State to stop for frame 62100\n",
      "Swapping State to play for frame 63060\n",
      "Swapping State to stop for frame 63660\n",
      "Swapping State to play for frame 64320\n",
      "Swapping State to stop for frame 65280\n",
      "Swapping State to play for frame 66780\n",
      "Swapping State to stop for frame 67200\n",
      "Swapping State to play for frame 67920\n",
      "Swapping State to stop for frame 68760\n",
      "Swapping State to play for frame 69420\n",
      "Swapping State to stop for frame 69600\n",
      "Swapping State to play for frame 70020\n",
      "Swapping State to stop for frame 70800\n",
      "Swapping State to play for frame 71820\n",
      "Swapping State to stop for frame 72600\n",
      "Swapping State to play for frame 73620\n",
      "Swapping State to stop for frame 74880\n",
      "Swapping State to play for frame 75780\n",
      "Swapping State to stop for frame 76800\n",
      "Swapping State to play for frame 77880\n",
      "Swapping State to play for frame 77880\n",
      "Swapping State to stop for frame 78960\n",
      "Swapping State to play for frame 79740\n",
      "Swapping State to stop for frame 81000\n",
      "Swapping State to play for frame 81660\n",
      "Swapping State to stop for frame 83100\n",
      "Swapping State to play for frame 84060\n",
      "Swapping State to stop for frame 85440\n",
      "Swapping State to play for frame 87240\n",
      "Swapping State to stop for frame 87840\n",
      "Swapping State to play for frame 88560\n",
      "Swapping State to stop for frame 89340\n",
      "Swapping State to play for frame 89700\n",
      "Swapping State to stop for frame 91740\n"
     ]
    }
   ],
   "source": [
    "\n",
    "lbl = os.path.join(img_folder, selected,\"labels.txt\")\n",
    "count = 0\n",
    "state = \"stop\"\n",
    "nextFrame = 0\n",
    "results = os.path.join(img_folder, selected,\"results.txt\")\n",
    "with open(lbl, 'r') as lblFile:\n",
    "    for lblLine in lblFile:\n",
    "        count = count + 1\n",
    "        varr = lblLine.split(\",\")\n",
    "        frame = varr[0]\n",
    "        lbl_count = int(frame[5:frame.find(\".\")])\n",
    "        lbl_state = varr[1][:len(varr[1])-1]\n",
    "        \n",
    "        with open(results, 'a+') as resFile:\n",
    "            while (nextFrame < lbl_count):\n",
    "                resFile.write(f\"frame{nextFrame}:{state}\\n\")\n",
    "                nextFrame = nextFrame + 1\n",
    "        \n",
    "        state = lbl_state\n",
    "        print(f\"Swapping State to {state} for frame {nextFrame}\") \n",
    "    resFile.write(\"\\n\")\n",
    "\n",
    "                \n",
    "        \n",
    "    \n",
    "    "
   ]
  },
  {
   "cell_type": "code",
   "execution_count": 17,
   "metadata": {},
   "outputs": [],
   "source": [
    "for x in range(nextFrame + 1,totalFrames):\n",
    "    with open(results, 'a+') as resFile:\n",
    "        resFile.write(f\"frame{x}:{state}\\n\")"
   ]
  },
  {
   "cell_type": "code",
   "execution_count": 1,
   "metadata": {},
   "outputs": [
    {
     "ename": "ImportError",
     "evalue": "C extension: No module named 'pandas._libs.tslib' not built. If you want to import pandas from the source directory, you may need to run 'python setup.py build_ext --inplace --force' to build the C extensions first.",
     "output_type": "error",
     "traceback": [
      "\u001b[1;31m---------------------------------------------------------------------------\u001b[0m",
      "\u001b[1;31mModuleNotFoundError\u001b[0m                       Traceback (most recent call last)",
      "\u001b[1;32mC:\\ProgramData\\Anaconda3\\lib\\site-packages\\pandas\\__init__.py\u001b[0m in \u001b[0;36m<module>\u001b[1;34m\u001b[0m\n\u001b[0;32m     25\u001b[0m \u001b[1;32mtry\u001b[0m\u001b[1;33m:\u001b[0m\u001b[1;33m\u001b[0m\u001b[1;33m\u001b[0m\u001b[0m\n\u001b[1;32m---> 26\u001b[1;33m     from pandas._libs import (hashtable as _hashtable,\n\u001b[0m\u001b[0;32m     27\u001b[0m                              \u001b[0mlib\u001b[0m \u001b[1;32mas\u001b[0m \u001b[0m_lib\u001b[0m\u001b[1;33m,\u001b[0m\u001b[1;33m\u001b[0m\u001b[1;33m\u001b[0m\u001b[0m\n",
      "\u001b[1;32mC:\\ProgramData\\Anaconda3\\lib\\site-packages\\pandas\\_libs\\__init__.py\u001b[0m in \u001b[0;36m<module>\u001b[1;34m\u001b[0m\n\u001b[0;32m      3\u001b[0m \u001b[1;33m\u001b[0m\u001b[0m\n\u001b[1;32m----> 4\u001b[1;33m \u001b[1;32mfrom\u001b[0m \u001b[1;33m.\u001b[0m\u001b[0mtslib\u001b[0m \u001b[1;32mimport\u001b[0m \u001b[0miNaT\u001b[0m\u001b[1;33m,\u001b[0m \u001b[0mNaT\u001b[0m\u001b[1;33m,\u001b[0m \u001b[0mTimestamp\u001b[0m\u001b[1;33m,\u001b[0m \u001b[0mTimedelta\u001b[0m\u001b[1;33m,\u001b[0m \u001b[0mOutOfBoundsDatetime\u001b[0m\u001b[1;33m\u001b[0m\u001b[1;33m\u001b[0m\u001b[0m\n\u001b[0m\u001b[0;32m      5\u001b[0m \u001b[1;33m\u001b[0m\u001b[0m\n",
      "\u001b[1;31mModuleNotFoundError\u001b[0m: No module named 'pandas._libs.tslib'",
      "\nDuring handling of the above exception, another exception occurred:\n",
      "\u001b[1;31mImportError\u001b[0m                               Traceback (most recent call last)",
      "\u001b[1;32m<ipython-input-1-8471794f42bd>\u001b[0m in \u001b[0;36m<module>\u001b[1;34m\u001b[0m\n\u001b[1;32m----> 1\u001b[1;33m \u001b[1;32mimport\u001b[0m \u001b[0mpandas\u001b[0m \u001b[1;32mas\u001b[0m \u001b[0mpd\u001b[0m\u001b[1;33m\u001b[0m\u001b[1;33m\u001b[0m\u001b[0m\n\u001b[0m\u001b[0;32m      2\u001b[0m \u001b[0mdf\u001b[0m \u001b[1;33m=\u001b[0m \u001b[0mpd\u001b[0m\u001b[1;33m.\u001b[0m\u001b[0mread_csv\u001b[0m\u001b[1;33m(\u001b[0m\u001b[0mresFile\u001b[0m\u001b[1;33m,\u001b[0m \u001b[0msep\u001b[0m\u001b[1;33m=\u001b[0m\u001b[1;34m':'\u001b[0m \u001b[1;33m)\u001b[0m\u001b[1;33m\u001b[0m\u001b[1;33m\u001b[0m\u001b[0m\n\u001b[0;32m      3\u001b[0m \u001b[0mdf\u001b[0m\u001b[1;33m.\u001b[0m\u001b[0mhead\u001b[0m\u001b[1;33m(\u001b[0m\u001b[1;33m)\u001b[0m\u001b[1;33m\u001b[0m\u001b[1;33m\u001b[0m\u001b[0m\n",
      "\u001b[1;32mC:\\ProgramData\\Anaconda3\\lib\\site-packages\\pandas\\__init__.py\u001b[0m in \u001b[0;36m<module>\u001b[1;34m\u001b[0m\n\u001b[0;32m     33\u001b[0m                       \u001b[1;34m\"pandas from the source directory, you may need to run \"\u001b[0m\u001b[1;33m\u001b[0m\u001b[1;33m\u001b[0m\u001b[0m\n\u001b[0;32m     34\u001b[0m                       \u001b[1;34m\"'python setup.py build_ext --inplace --force' to build \"\u001b[0m\u001b[1;33m\u001b[0m\u001b[1;33m\u001b[0m\u001b[0m\n\u001b[1;32m---> 35\u001b[1;33m                       \"the C extensions first.\".format(module))\n\u001b[0m\u001b[0;32m     36\u001b[0m \u001b[1;33m\u001b[0m\u001b[0m\n\u001b[0;32m     37\u001b[0m \u001b[1;32mfrom\u001b[0m \u001b[0mdatetime\u001b[0m \u001b[1;32mimport\u001b[0m \u001b[0mdatetime\u001b[0m\u001b[1;33m\u001b[0m\u001b[1;33m\u001b[0m\u001b[0m\n",
      "\u001b[1;31mImportError\u001b[0m: C extension: No module named 'pandas._libs.tslib' not built. If you want to import pandas from the source directory, you may need to run 'python setup.py build_ext --inplace --force' to build the C extensions first."
     ]
    }
   ],
   "source": [
    "import pandas as pd\n",
    "df = pd.read_csv(resFile, sep=':' )\n",
    "df.head()"
   ]
  },
  {
   "cell_type": "code",
   "execution_count": null,
   "metadata": {},
   "outputs": [],
   "source": []
  }
 ],
 "metadata": {
  "kernelspec": {
   "display_name": "Python 3",
   "language": "python",
   "name": "python3"
  },
  "language_info": {
   "codemirror_mode": {
    "name": "ipython",
    "version": 3
   },
   "file_extension": ".py",
   "mimetype": "text/x-python",
   "name": "python",
   "nbconvert_exporter": "python",
   "pygments_lexer": "ipython3",
   "version": "3.6.7"
  }
 },
 "nbformat": 4,
 "nbformat_minor": 2
}
