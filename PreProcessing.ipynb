{
 "cells": [
  {
   "cell_type": "code",
   "execution_count": 13,
   "metadata": {},
   "outputs": [],
   "source": [
    "import os\n",
    "import cv2\n",
    "vid_folder = \"./static/videos/\"\n",
    "img_folder = \"./static/images/\""
   ]
  },
  {
   "cell_type": "code",
   "execution_count": 14,
   "metadata": {},
   "outputs": [
    {
     "name": "stdout",
     "output_type": "stream",
     "text": [
      "['C:\\\\Users\\\\vkurp\\\\source\\\\repos\\\\tennis.ai ']\n"
     ]
    }
   ],
   "source": [
    "myInfo01 = !echo %cd% \n",
    "#myInfo02 = !pwd # under linux/mac\n",
    "print(myInfo01)"
   ]
  },
  {
   "cell_type": "code",
   "execution_count": 15,
   "metadata": {},
   "outputs": [
    {
     "name": "stdout",
     "output_type": "stream",
     "text": [
      "C:\\Users\\vkurp\\source\\repos\\tennis.ai\\static\\videos\n"
     ]
    }
   ],
   "source": [
    "vid_path = os.path.join(''.join(myInfo01).strip(), \"static\", \"videos\")\n",
    "print(vid_path)"
   ]
  },
  {
   "cell_type": "code",
   "execution_count": 16,
   "metadata": {},
   "outputs": [
    {
     "name": "stdout",
     "output_type": "stream",
     "text": [
      "['1a.MOV', '20161001_122550_01.MOV']\n",
      "Which File Enter the index starting with 01\n"
     ]
    }
   ],
   "source": [
    "for root, dirs, files in os.walk(vid_folder):\n",
    "    print(files)\n",
    "a = input(\"Which File Enter the index starting with 0\")\n",
    "selected = files[int(a)]\n",
    "selected_folder = selected.split(\".\")[0]\n",
    "if not os.path.exists(os.path.join(img_folder, selected_folder )):\n",
    "    os.makedirs(os.path.join(img_folder, selected_folder))\n"
   ]
  },
  {
   "cell_type": "code",
   "execution_count": 19,
   "metadata": {},
   "outputs": [
    {
     "name": "stdout",
     "output_type": "stream",
     "text": [
      "Image Dimension  :  (1080, 1920, 3)\n",
      "Frames per second using video.get(cv2.CAP_PROP_FPS) : 60\n",
      "Processed : 92565 frames. Output is 1543 frames\n"
     ]
    }
   ],
   "source": [
    "vidcap = cv2.VideoCapture(os.path.join(vid_folder, selected))\n",
    "success,image = vidcap.read()\n",
    "count = 0\n",
    "i = 0\n",
    "fps = vidcap.get(cv2.CAP_PROP_FPS)\n",
    "fps = int(fps)\n",
    "dimensions = image.shape\n",
    "print('Image Dimension  : ',dimensions) \n",
    "print(\"Frames per second using video.get(cv2.CAP_PROP_FPS) : {0}\".format(fps))\n",
    "info = os.path.join(img_folder, selected_folder,\"info.txt\")\n",
    "\n",
    "while success:\n",
    "    if (i % 60 == 0): # Sampled 1 frames every second\n",
    "        \n",
    "        cv2.imwrite(os.path.join(img_folder, selected_folder, \"frame%d.jpg\" % i), image)     # save frame as JPEG file  \n",
    "        count += 1    \n",
    "    success,image = vidcap.read()\n",
    "    i+=1\n",
    "print('Processed : %d frames. Output is %d frames' % (i, count))\n",
    "\n",
    "with open(info, 'w+') as fw:\n",
    "    fw.write(f\"File:{selected}; Dimensions:{dimensions}; FPS:{fps}; Saved Frames:{count}; Total Frames:{i} \\n\")\n",
    "\n",
    "print(f\"{selected}, {dimensions}, {fps} fps, {count} Frames \\n\")"
   ]
  },
  {
   "cell_type": "code",
   "execution_count": null,
   "metadata": {},
   "outputs": [],
   "source": []
  }
 ],
 "metadata": {
  "kernelspec": {
   "display_name": "Python 3",
   "language": "python",
   "name": "python3"
  },
  "language_info": {
   "codemirror_mode": {
    "name": "ipython",
    "version": 3
   },
   "file_extension": ".py",
   "mimetype": "text/x-python",
   "name": "python",
   "nbconvert_exporter": "python",
   "pygments_lexer": "ipython3",
   "version": "3.6.7"
  }
 },
 "nbformat": 4,
 "nbformat_minor": 2
}
